{
 "cells": [
  {
   "cell_type": "code",
   "execution_count": 1,
   "metadata": {},
   "outputs": [],
   "source": [
    "import tensorflow as tf\n",
    "from tensorflow import keras\n",
    "import cv2\n",
    "import matplotlib.pyplot as plt\n",
    "import time\n",
    "import numpy as np"
   ]
  },
  {
   "cell_type": "code",
   "execution_count": 2,
   "metadata": {},
   "outputs": [],
   "source": [
    "model = keras.models.load_model(r'cnn.h5')"
   ]
  },
  {
   "cell_type": "code",
   "execution_count": 3,
   "metadata": {},
   "outputs": [
    {
     "data": {
      "text/plain": [
       "<tensorflow.python.keras.engine.sequential.Sequential at 0x1d1a9fc0888>"
      ]
     },
     "execution_count": 3,
     "metadata": {},
     "output_type": "execute_result"
    }
   ],
   "source": [
    "model"
   ]
  },
  {
   "cell_type": "code",
   "execution_count": 4,
   "metadata": {},
   "outputs": [],
   "source": [
    "# master_I is the frame\n",
    "def check_mask(master_I):\n",
    "    \n",
    "    mask_status = {\n",
    "        0:'No',\n",
    "        1:'Yes'\n",
    "    }\n",
    "    orig_image = cv2.cvtColor(master_I, cv2.COLOR_RGB2GRAY)\n",
    "    is_mask=0\n",
    "    \n",
    "    try:\n",
    "        # preprocessing\n",
    "        image = cv2.resize(orig_image,(50,50))\n",
    "        image = image.reshape((*image.shape,1))\n",
    "        image = tf.convert_to_tensor(image)\n",
    "        image = tf.image.grayscale_to_rgb(image).numpy()/255. # to scale image from 0 to 1\n",
    "        final_image = image.reshape(1, *image.shape)\n",
    "        is_mask = tf.math.argmax(model.predict(final_image),1).numpy()[0]\n",
    "        #         print(model.predict(final_image))\n",
    "    except Exception as E:\n",
    "        print(E)\n",
    "    else:   \n",
    "        master_I = cv2.putText(master_I,\n",
    "                    f'Mask:{mask_status[is_mask]}', (10,50),\n",
    "                    fontFace=cv2.FONT_HERSHEY_DUPLEX,\n",
    "                    fontScale=1,\n",
    "                    color=(0,0,255),thickness=2)\n",
    "\n",
    "    return master_I"
   ]
  },
  {
   "cell_type": "code",
   "execution_count": 5,
   "metadata": {
    "scrolled": true
   },
   "outputs": [],
   "source": [
    "cap = cv2.VideoCapture(0) #live\n",
    "# cap = cv2.VideoCapture('demo.mp4')\n",
    "if not cap.isOpened():\n",
    "    print(\"There is an error in loading video file.\")\n",
    "\n",
    "while True:\n",
    "    ret, frame = cap.read()\n",
    "    if ret: #ret is TRUE only till video can be read\n",
    "        time.sleep(1/cap.get(cv2.CAP_PROP_FPS)) # to get the fps of video\n",
    "        frame = check_mask(frame)\n",
    "        cv2.imshow(\"title\", frame)\n",
    "        if cv2.waitKey(1) & 0xFF == 27:\n",
    "            break\n",
    "    else:\n",
    "        break\n",
    "cap.release()\n",
    "cv2.destroyAllWindows()"
   ]
  },
  {
   "cell_type": "code",
   "execution_count": null,
   "metadata": {},
   "outputs": [],
   "source": []
  }
 ],
 "metadata": {
  "kernelspec": {
   "display_name": "Python 3",
   "language": "python",
   "name": "python3"
  },
  "language_info": {
   "codemirror_mode": {
    "name": "ipython",
    "version": 3
   },
   "file_extension": ".py",
   "mimetype": "text/x-python",
   "name": "python",
   "nbconvert_exporter": "python",
   "pygments_lexer": "ipython3",
   "version": "3.7.8"
  }
 },
 "nbformat": 4,
 "nbformat_minor": 4
}
